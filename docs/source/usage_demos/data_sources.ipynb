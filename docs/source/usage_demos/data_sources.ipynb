{
 "cells": [
  {
   "cell_type": "markdown",
   "metadata": {},
   "source": [
    "# Data source basics"
   ]
  },
  {
   "cell_type": "raw",
   "metadata": {
    "raw_mimetype": "text/restructuredtext"
   },
   "source": [
    "In ecogdata, load methods for recording files return a :py:class:`ecogdata.util.Bunch` object, which is simply an unstructured data container analogous to the Matlab \"struct\". The electrode signals are found in the 2-dimensionary \"array timeseries\" named `data`, which is an :py:class:`ecogdata.datasource.basic.ElectrodeDataSource`."
   ]
  },
  {
   "cell_type": "markdown",
   "metadata": {},
   "source": [
    "In ecogdata, load methods for recording files return a `Bunch` object, which is simply an unstructured data container analogous to the Matlab \"struct\". The electrode signals are found in the 2-dimensionary \"array timeseries\" named `data`, which is an `ElectrodeDataSource`. `ElectrodeDataSource` defines several generic attributes, operations, and access patterns for electrode data, but it cannot be used directly. Instead, two flavors of sources exist:\n",
    "\n",
    "* `PlainDataSource` -- this is a data source whose signal data is loaded as a numpy ndarray\n",
    "* `MappedSource` -- this source provides array like access to signal data mapped from a file\n",
    "\n",
    "## Common features for `ElectrodeDataSource`\n",
    "\n",
    "All sources implement a common set of attributes and access patterns. Let's look a simple source to illustrate."
   ]
  },
  {
   "cell_type": "code",
   "execution_count": null,
   "metadata": {},
   "outputs": [],
   "source": [
    "import numpy as np\n",
    "import matplotlib.pyplot as plt\n",
    "from ecogdata.datasource import PlainArraySource, MappedSource\n",
    "from ecogdata.expconfig import OVERRIDE, load_params\n",
    "from ecogdata.filt.time import filter_array, notch_all\n",
    "\n",
    "# a PlainArraySource uses an array in memory\n",
    "array = np.arange(6 * 15).reshape(6, 15)\n",
    "print(array)"
   ]
  },
  {
   "cell_type": "code",
   "execution_count": null,
   "metadata": {},
   "outputs": [],
   "source": [
    "%matplotlib inline"
   ]
  },
  {
   "cell_type": "markdown",
   "metadata": {},
   "source": [
    "### Array attributes\n",
    "The source object exposes a few attributes about the underlying data buffer, and exposes the buffer itself as `data_buffer`"
   ]
  },
  {
   "cell_type": "code",
   "execution_count": null,
   "metadata": {},
   "outputs": [],
   "source": [
    "source = PlainArraySource(array)\n",
    "print('Length:', len(source), 'Shape:', source.shape, 'Dims:', source.ndim, 'dtype:', source.dtype)\n",
    "print('Buffer type:', type(source.data_buffer))"
   ]
  },
  {
   "cell_type": "markdown",
   "metadata": {},
   "source": [
    "### Reduction methods\n",
    "Sources implement a few **array reduction** methods:"
   ]
  },
  {
   "cell_type": "code",
   "execution_count": null,
   "metadata": {},
   "outputs": [],
   "source": [
    "print('min:', source.min(axis=1), 'overall:', source.min())\n",
    "print('max:', source.max(axis=1), 'overall:', source.max())\n",
    "print('mean:', source.mean(axis=1), 'overall:', source.mean())"
   ]
  },
  {
   "cell_type": "markdown",
   "metadata": {},
   "source": [
    "The reductions in this list are implemented, and generally respect the `axis`, `out`, `dtype`, and `keepdims` arguments documented for [ndarray methods](https://docs.scipy.org/doc/numpy/reference/generated/numpy.ndarray.sum.html#numpy.ndarray.sum)\n",
    "\n",
    "* .min\n",
    "* .max\n",
    "* .sum\n",
    "* .mean\n",
    "* .std (standard deviation)\n",
    "* .var (variance)\n",
    "\n",
    "For example:"
   ]
  },
  {
   "cell_type": "code",
   "execution_count": null,
   "metadata": {},
   "outputs": [],
   "source": [
    "out = np.zeros(source.shape[1], 'd')\n",
    "source.sum(axis=0, out=out)\n",
    "print(out)"
   ]
  },
  {
   "cell_type": "markdown",
   "metadata": {},
   "source": [
    "### Arbitrary array access\n",
    "Sources have **array-like access** for read-out and write-in, if the source is writeable, which is always true for `PlainArraySource`."
   ]
  },
  {
   "cell_type": "code",
   "execution_count": null,
   "metadata": {},
   "outputs": [],
   "source": [
    "print(source[2:4, 4:8])\n",
    "source[2, 6:8] = -1\n",
    "print('After write:')\n",
    "print(source[2:4, 4:8])"
   ]
  },
  {
   "cell_type": "markdown",
   "metadata": {},
   "source": [
    "### Iterator access\n",
    "In various cases (especially when working with large, mapped data sources) it is convenient to access small bits of the signal data at a time. Data sources have iterator access that work over channels or over time.\n",
    "\n",
    "* `ElectrodeDataSource.iter_blocks`: yields sequential blocks in time, possibly with overlap (*note that the final block will not necessarily have the specified block length*)\n",
    "* `ElectrodeDataSource.iter_channels`: yields all time points for sequential channels"
   ]
  },
  {
   "cell_type": "markdown",
   "metadata": {},
   "source": [
    "#### iter_blocks"
   ]
  },
  {
   "cell_type": "code",
   "execution_count": null,
   "metadata": {},
   "outputs": [],
   "source": [
    "help(source.iter_blocks)"
   ]
  },
  {
   "cell_type": "code",
   "execution_count": null,
   "metadata": {},
   "outputs": [],
   "source": [
    "# Forward iteration with a 2-point rewind\n",
    "for n, b in enumerate(source.iter_blocks(block_length=6, overlap=2)):\n",
    "    print('Block {}'.format(n + 1), b)"
   ]
  },
  {
   "cell_type": "code",
   "execution_count": null,
   "metadata": {},
   "outputs": [],
   "source": [
    "# Reverse iteration with a 2-point rewind\n",
    "for n, b in enumerate(source.iter_blocks(block_length=6, overlap=2, reverse=True)):\n",
    "    print('Block {}'.format(n + 1), b)"
   ]
  },
  {
   "cell_type": "markdown",
   "metadata": {},
   "source": [
    "Iterators can also be built and manipulated outside of loops."
   ]
  },
  {
   "cell_type": "code",
   "execution_count": null,
   "metadata": {},
   "outputs": [],
   "source": [
    "itr = source.iter_blocks(block_length=3, overlap=0)\n",
    "print('Number of blocks:', len(itr))\n",
    "next_block = next(itr)\n",
    "print('First block:', next_block)"
   ]
  },
  {
   "cell_type": "markdown",
   "metadata": {},
   "source": [
    "This iterator returns both the data blocks and also the slice used to pull the data, which is convenient if transformed data should be written to a different array or source."
   ]
  },
  {
   "cell_type": "code",
   "execution_count": null,
   "metadata": {},
   "outputs": [],
   "source": [
    "itr = source.iter_blocks(block_length=3, overlap=0, return_slice=True)\n",
    "# Create a duplicate source\n",
    "source2 = PlainArraySource(np.zeros(source.shape, source.dtype))\n",
    "# Get data and slice for n=2 (third) block\n",
    "data, slicer = itr.block(2)\n",
    "source2[slicer] = data **  2\n",
    "source2[:]"
   ]
  },
  {
   "cell_type": "markdown",
   "metadata": {},
   "source": [
    "#### iter_channels"
   ]
  },
  {
   "cell_type": "markdown",
   "metadata": {},
   "source": [
    "Channel iteration yields all signal samples for groups of channels at a time. If `use_max_memory` is specified, then the number of channels returned per group is limited to prevent memory blow-outs. If nothing is specified, then a default value of 16 channels at a time are returned."
   ]
  },
  {
   "cell_type": "code",
   "execution_count": null,
   "metadata": {},
   "outputs": [],
   "source": [
    "help(source.iter_channels)"
   ]
  },
  {
   "cell_type": "markdown",
   "metadata": {},
   "source": [
    "Example: memory mode\n",
    "\n",
    "Temporarily set the memory limit to be about 40 4-byte integer numbers. Only two channels at a time fit inside this memory limit."
   ]
  },
  {
   "cell_type": "code",
   "execution_count": null,
   "metadata": {},
   "outputs": [],
   "source": [
    "OVERRIDE['memory_limit'] = 40 * source.dtype.itemsize\n",
    "print('Over-ride bytes limit:', load_params().memory_limit)\n",
    "for block in source.iter_channels(use_max_memory=True):\n",
    "    print('block size:', block.shape)"
   ]
  },
  {
   "cell_type": "code",
   "execution_count": null,
   "metadata": {},
   "outputs": [],
   "source": [
    "del OVERRIDE['memory_limit']\n",
    "print('Normal bytes limit without over-ride:', load_params().memory_limit)"
   ]
  },
  {
   "cell_type": "markdown",
   "metadata": {},
   "source": [
    "### Array filtering\n",
    "\n",
    "These filtering methods are defined for data sources\n",
    "\n",
    "* `filter_array`: general iir, fir filtering\n",
    "* `notch_filter`: filters to suppress line-noise (make a \"notch\" in the power spectrum)\n",
    "* `batch_change_rate`: anti-alias (low-pass) filtering and sample rate change for all channels: copies result to new source\n",
    "\n",
    "#### `filter_array`\n",
    "The `filter_array` method takes arguments relevant to `ecogdata.filt.time.filter_array`"
   ]
  },
  {
   "cell_type": "code",
   "execution_count": null,
   "metadata": {},
   "outputs": [],
   "source": [
    "help(filter_array)"
   ]
  },
  {
   "cell_type": "code",
   "execution_count": null,
   "metadata": {},
   "outputs": [],
   "source": [
    "source = PlainArraySource(np.random.randn(10, 200))\n",
    "f_source = source.filter_array(inplace=False, design_kwargs=dict(hi=0.1, Fs=1, ord=1))\n",
    "plt.figure()\n",
    "lines_a = plt.plot(np.c_[source[0], source[1]], color='k', lw=2)\n",
    "lines_b = plt.plot(np.c_[f_source[0], f_source[1]], color='r', lw=2)\n",
    "plt.legend([lines_a[0], lines_b[0]], ('Random', 'Lowpass (20% bandwidth)'))"
   ]
  },
  {
   "cell_type": "markdown",
   "metadata": {},
   "source": [
    "#### `notch_filter`\n",
    "\n",
    "Notch filter arguments apply to `ecogdata.filt.time.proc.notch_all`"
   ]
  },
  {
   "cell_type": "code",
   "execution_count": null,
   "metadata": {},
   "outputs": [],
   "source": [
    "help(notch_all)"
   ]
  },
  {
   "cell_type": "code",
   "execution_count": null,
   "metadata": {},
   "outputs": [],
   "source": [
    "# add a cosine with jittered phase and amplitude across channels\n",
    "amps = np.random.rand(source.shape[0]) + 9\n",
    "phases = np.random.rand(source.shape[0]) * 2 * np.pi\n",
    "line_source = PlainArraySource(source[:].copy())\n",
    "# Fake sampling rate of 500 Hz\n",
    "line_noise = amps[:, np.newaxis] * np.cos(2 * np.pi * 60 * np.arange(source.shape[1]) / 500. + phases[:, np.newaxis])\n",
    "line_source[:] = source[:] + line_noise\n",
    "f_source = line_source.notch_filter(500.0, inplace=False, lines=60, nzo=4, nwid=3)\n",
    "plt.figure()\n",
    "lines_a = plt.plot(np.c_[source[0], source[1]], color='k', lw=1)\n",
    "lines_b = plt.plot(np.c_[line_source[0], line_source[1]], color='b', lw=1)\n",
    "lines_c = plt.plot(np.c_[f_source[0], f_source[1]], color='r', lw=1)\n",
    "plt.legend([lines_a[0], lines_b[0], lines_c[0]], ('Random', 'High amp cosine', 'Notch filter'))"
   ]
  }
 ],
 "metadata": {
  "celltoolbar": "Raw Cell Format",
  "kernelspec": {
   "display_name": "Python 3",
   "language": "python",
   "name": "python3"
  },
  "language_info": {
   "codemirror_mode": {
    "name": "ipython",
    "version": 3
   },
   "file_extension": ".py",
   "mimetype": "text/x-python",
   "name": "python",
   "nbconvert_exporter": "python",
   "pygments_lexer": "ipython3",
   "version": "3.6.4"
  }
 },
 "nbformat": 4,
 "nbformat_minor": 2
}
